{
 "cells": [
  {
   "cell_type": "markdown",
   "id": "982352e2",
   "metadata": {},
   "source": [
    "# Write a python program to find the factorial of a number."
   ]
  },
  {
   "cell_type": "code",
   "execution_count": 72,
   "id": "9fd44e55",
   "metadata": {},
   "outputs": [
    {
     "name": "stdout",
     "output_type": "stream",
     "text": [
      "Enter nnumber.8\n",
      "The factorial of 8 is 40320\n"
     ]
    }
   ],
   "source": [
    "def factnum(num):\n",
    "    result = num\n",
    "    if num == 0 or num ==1:\n",
    "        return 1\n",
    "    else:\n",
    "        for i in range (num-1):\n",
    "            num = num * (result-1)\n",
    "            result = result-1\n",
    "        return num \n",
    "\n",
    "num = int(input(\"Enter nnumber.\"))\n",
    "if num < 0:\n",
    "    print(f\"Please eneter positive integer value instead of {num}\")\n",
    "else :\n",
    "    print(f\"The factorial of {num} is {factnum(num)}\")   \n"
   ]
  },
  {
   "cell_type": "markdown",
   "id": "78c68d31",
   "metadata": {},
   "source": [
    "# Write a python program to find whether a number is prime or composite. "
   ]
  },
  {
   "cell_type": "code",
   "execution_count": 136,
   "id": "6a0d7905",
   "metadata": {},
   "outputs": [
    {
     "name": "stdout",
     "output_type": "stream",
     "text": [
      "Enter a number: 2\n",
      "2 is a prime number.\n"
     ]
    }
   ],
   "source": [
    "def primenum(num):\n",
    "    if num < 2:\n",
    "        return 0\n",
    "    root = int(num**0.5)+1\n",
    "    for i in range(2,root):\n",
    "        if num % i == 0:\n",
    "            return 0\n",
    "    return 1\n",
    "\n",
    "number = int(input(\"Enter a number: \"))\n",
    "\n",
    "if primenum(number):\n",
    "    print(f\"{number} is a prime number.\")\n",
    "else:\n",
    "    print(f\"{number} is a composite number.\")"
   ]
  },
  {
   "cell_type": "markdown",
   "id": "43642580",
   "metadata": {},
   "source": [
    "# Write a python program to check whether a given string is palindrome or not. "
   ]
  },
  {
   "cell_type": "code",
   "execution_count": 147,
   "id": "f9a0f4ac",
   "metadata": {},
   "outputs": [
    {
     "name": "stdout",
     "output_type": "stream",
     "text": [
      "Enter a name madame\n",
      "madameis not a palindrome\n"
     ]
    }
   ],
   "source": [
    "strp = input(\"Enter a name \")\n",
    "strs = strp.replace(\" \",\"\")\n",
    "strl=strs.upper()\n",
    "if strl == strl[::-1]:\n",
    "    print(f\"{strp} is a palindrome\")\n",
    "else :\n",
    "    print(f\"{strp} is not a palindrome\")\n",
    "    "
   ]
  },
  {
   "cell_type": "markdown",
   "id": "6b47cbf1",
   "metadata": {},
   "source": [
    "# Write a Python program to get the third side of right-angled triangle from two given sides. - Did not understand the question?"
   ]
  },
  {
   "cell_type": "markdown",
   "id": "ec2623ff",
   "metadata": {},
   "source": [
    "# Write a python program to print the frequency of each of the characters present in a given string "
   ]
  },
  {
   "cell_type": "code",
   "execution_count": 3,
   "id": "10b584c9",
   "metadata": {},
   "outputs": [
    {
     "name": "stdout",
     "output_type": "stream",
     "text": [
      "Enter a string: aaaa b cccccc mmmm ww q\n",
      "Character: a, Frequency: 4\n",
      "Character:  , Frequency: 5\n",
      "Character: b, Frequency: 1\n",
      "Character: c, Frequency: 6\n",
      "Character: m, Frequency: 4\n",
      "Character: w, Frequency: 2\n",
      "Character: q, Frequency: 1\n"
     ]
    }
   ],
   "source": [
    "def charfreq(istring):\n",
    "    freq_dict = {}\n",
    "    for char in istring:\n",
    "        if char in freq_dict:\n",
    "            freq_dict[char] += 1\n",
    "        else:\n",
    "            freq_dict[char] = 1\n",
    "\n",
    "    for char, frequency in freq_dict.items():\n",
    "        print(f\"Character: {char}, Frequency: {frequency}\")\n",
    "\n",
    "\n",
    "user_input = input(\"Enter a string: \")\n",
    "charfreq(user_input)"
   ]
  },
  {
   "cell_type": "code",
   "execution_count": null,
   "id": "c363e3a1",
   "metadata": {},
   "outputs": [],
   "source": []
  }
 ],
 "metadata": {
  "kernelspec": {
   "display_name": "Python 3 (ipykernel)",
   "language": "python",
   "name": "python3"
  },
  "language_info": {
   "codemirror_mode": {
    "name": "ipython",
    "version": 3
   },
   "file_extension": ".py",
   "mimetype": "text/x-python",
   "name": "python",
   "nbconvert_exporter": "python",
   "pygments_lexer": "ipython3",
   "version": "3.10.9"
  }
 },
 "nbformat": 4,
 "nbformat_minor": 5
}
